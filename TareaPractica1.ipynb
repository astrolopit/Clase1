{
  "cells": [
    {
      "cell_type": "markdown",
      "metadata": {
        "id": "view-in-github",
        "colab_type": "text"
      },
      "source": [
        "<a href=\"https://colab.research.google.com/github/astrolopit/Clase1/blob/main/TareaPractica1.ipynb\" target=\"_parent\"><img src=\"https://colab.research.google.com/assets/colab-badge.svg\" alt=\"Open In Colab\"/></a>"
      ]
    },
    {
      "cell_type": "markdown",
      "metadata": {
        "id": "nS9Q_3lXC9qH"
      },
      "source": [
        "<h1 align=\"center\">Física Computacional.</h1>\n",
        "<h1 align=\"center\">Semestre 2014-1</h1>\n",
        "\n",
        "<h2>Sergio A. Alcalá Corona </h2>\n",
        "\n",
        "---\n",
        "### Daniel Rojo Mata\n",
        "### Rodrigo Vega Vilchis\n",
        "---"
      ]
    },
    {
      "cell_type": "markdown",
      "metadata": {
        "id": "gPj6n4mPC9qM"
      },
      "source": [
        "<h1 align=\"center\">Programación para la física computacional</h1>\n",
        "\n",
        "## Práctica 1.  Programación para la física computacional\n",
        "\n",
        "\n",
        "### Programación básica para la física\n",
        "\n",
        "---"
      ]
    },
    {
      "cell_type": "markdown",
      "metadata": {
        "id": "ExBGguUSC9qN"
      },
      "source": [
        "### EJERCICIOS:"
      ]
    },
    {
      "cell_type": "markdown",
      "metadata": {
        "id": "SLSFnR5RC9qN"
      },
      "source": [
        "**1. Caida de una pelota desde una torre:** Se deja caer una pelota desde una torre de altura $h$. Tiene velocidad inicial cero y acelera hacia abajo con la gravedad.\n",
        "\n",
        "Escribe un programa que le pida al usuario que ingrese la altura en metros de la torre y luego calcule e imprima el tiempo en segundos hasta que la pelota toque el suelo (ignora la resistencia del aire).\n",
        "    \n",
        "Después, usa tu programa para calcular el tiempo de una pelota lanzada desde una torre de $100m$ de altura."
      ]
    },
    {
      "cell_type": "code",
      "execution_count": 6,
      "metadata": {
        "colab": {
          "base_uri": "https://localhost:8080/"
        },
        "id": "5mFUEemMC9qO",
        "outputId": "fae7a30e-ef93-48f8-a926-c0df913f463a"
      },
      "outputs": [
        {
          "output_type": "stream",
          "name": "stdout",
          "text": [
            "Ingrese la altura en metros: 100\n",
            "La pelota llegará al suelo en 4.5175395145262565 segundos\n"
          ]
        }
      ],
      "source": [
        "from math import *\n",
        "h=float(input(\"Ingrese la altura en metros: \"))\n",
        "t=sqrt(2*h/9.8)\n",
        "print(\"La pelota llegará al suelo en\", t,\"segundos\")"
      ]
    },
    {
      "cell_type": "code",
      "execution_count": null,
      "metadata": {
        "id": "OUKmLMwGC9qP"
      },
      "outputs": [],
      "source": []
    },
    {
      "cell_type": "markdown",
      "metadata": {
        "id": "ZG-IFWniC9qP"
      },
      "source": []
    },
    {
      "cell_type": "markdown",
      "metadata": {
        "id": "JWsezmjSC9qP"
      },
      "source": [
        "**2. Altitud de un satélite**: se va a lanzar un satélite en una órbita circular alrededor de la Tierra de modo que orbite el planeta una vez cada $T$ segundos."
      ]
    },
    {
      "cell_type": "markdown",
      "metadata": {
        "id": "uC614X9FC9qQ"
      },
      "source": [
        "(a) Demuestre que la altitud $h$ sobre la superficie de la Tierra que debe tener el satélite es:\n",
        "\n",
        "<h3 align=\"center\">$h = \\biggl( {GMT^2\\over4\\pi^2} \\biggr)^{1/3} - R$,</h3>\n",
        "\n",
        "donde $G=6.67\\times10^{-11}\\,\\textrm{m}^3\\,\\textrm{kg}^{-1}\\,\\textrm{s}^{-2}$ es la constante gravitatoria de Newton, $M=5.97\\times10^{24}\\,$kg es la masa de la Tierra y $R=6371\\,$km  es su radio.\n",
        "\n"
      ]
    },
    {
      "cell_type": "markdown",
      "source": [
        "movimineto circular igualada con la gravitación universal"
      ],
      "metadata": {
        "id": "xfc2VFLPJRO2"
      }
    },
    {
      "cell_type": "code",
      "execution_count": null,
      "metadata": {
        "id": "2us9_VtDC9qR"
      },
      "outputs": [],
      "source": []
    },
    {
      "cell_type": "code",
      "execution_count": null,
      "metadata": {
        "id": "ihnavxyOC9qR"
      },
      "outputs": [],
      "source": []
    },
    {
      "cell_type": "markdown",
      "metadata": {
        "id": "BxJFG3DEC9qR"
      },
      "source": [
        "(b) Escribe un programa que le pida al usuario que ingrese el valor deseado de $T$ y luego calcula e imprima la altitud correcta en metros."
      ]
    },
    {
      "cell_type": "code",
      "execution_count": 34,
      "metadata": {
        "colab": {
          "base_uri": "https://localhost:8080/"
        },
        "id": "COOgdvktC9qS",
        "outputId": "8fed678b-017e-47bd-cb78-836a4b14cfbf"
      },
      "outputs": [
        {
          "output_type": "stream",
          "name": "stdout",
          "text": [
            "Ingrese periodo T en segundos: 2700\n",
            "La altitud h es: 3552342.4613032835 metros\n"
          ]
        }
      ],
      "source": [
        "t=float(input(\"Ingrese periodo T en segundos: \"))\n",
        "G=6.67E-11\n",
        "M=5.97E24\n",
        "R=637100\n",
        "P=3.14159\n",
        "h=((G*M*(t**2))/(4*(P**2)))**(1/3)-R\n",
        "print(\"La altitud h es:\", h,\"metros\")\n"
      ]
    },
    {
      "cell_type": "code",
      "execution_count": 33,
      "metadata": {
        "colab": {
          "base_uri": "https://localhost:8080/"
        },
        "id": "r0NgrIb_C9qT",
        "outputId": "2a728e32-e814-4339-8207-0725dd6fb98b"
      },
      "outputs": [
        {
          "output_type": "execute_result",
          "data": {
            "text/plain": [
              "3.98199e+17"
            ]
          },
          "metadata": {},
          "execution_count": 33
        }
      ],
      "source": [
        "G*M*(200**2)/40"
      ]
    },
    {
      "cell_type": "markdown",
      "metadata": {
        "id": "nP1cK2-TC9qT"
      },
      "source": [
        "(c) Utiliza tu programa para calcular las altitudes de los satélites que orbitan la Tierra una vez al día (la llamada órbita *geoestacionaria*), una vez cada **90 minutos** y una vez cada **45 minutos**. ¿Qué concluyes de este último cálculo?"
      ]
    },
    {
      "cell_type": "code",
      "source": [
        "t=float(input(\"Ingrese periodo T en segundos: \"))\n",
        "h=((6.67*(10**(-11))*5.97*(10**(24))*(t**2))/(4*(3.1416**2)))**(1/3)-637100\n",
        "print(\"La altitud h es:\", h,\"metros\")"
      ],
      "metadata": {
        "colab": {
          "base_uri": "https://localhost:8080/"
        },
        "id": "kDYP20JOLx2c",
        "outputId": "9442130d-84ee-484c-8470-85a265b8c057"
      },
      "execution_count": 35,
      "outputs": [
        {
          "output_type": "stream",
          "name": "stdout",
          "text": [
            "Ingrese periodo T en segundos: 84000\n",
            "La altitud h es: 40804100.04346801 metros\n"
          ]
        }
      ]
    },
    {
      "cell_type": "code",
      "execution_count": 19,
      "metadata": {
        "colab": {
          "base_uri": "https://localhost:8080/"
        },
        "id": "p_z5Q-pkC9qU",
        "outputId": "82f0185e-982c-4d25-fa64-d393f2e625f8"
      },
      "outputs": [
        {
          "output_type": "stream",
          "name": "stdout",
          "text": [
            "Ingrese periodo T en segundos: 5400\n",
            "La altitud h es: 279311.257829844 metros\n"
          ]
        }
      ],
      "source": [
        "t=float(input(\"Ingrese periodo T en segundos: \"))\n",
        "h=((6.67*(10**(-11))*5.97*(10**(24))*(t**2))/(4*(3.1416**2)))**(1/3)-6371000\n",
        "print(\"La altitud h es:\", h,\"metros\")"
      ]
    },
    {
      "cell_type": "code",
      "execution_count": 20,
      "metadata": {
        "colab": {
          "base_uri": "https://localhost:8080/"
        },
        "id": "EJvNNsSIC9qU",
        "outputId": "1c593261-61da-4f3a-8f21-4ec8e8a07e9e"
      },
      "outputs": [
        {
          "output_type": "stream",
          "name": "stdout",
          "text": [
            "Ingrese periodo T en segundos: 2700\n",
            "La altitud h es: -2181566.4289536644 metros\n"
          ]
        }
      ],
      "source": [
        "t=float(input(\"Ingrese periodo T en segundos: \"))\n",
        "h=((6.67*(10**(-11))*5.97*(10**(24))*(t**2))/(4*(3.1416**2)))**(1/3)-6371000\n",
        "print(\"La altitud h es:\", h,\"metros\")"
      ]
    },
    {
      "cell_type": "markdown",
      "metadata": {
        "id": "VDOhrY4tC9qU"
      },
      "source": [
        "**3. Relatividad especial:** Una nave espacial viaja desde la Tierra en línea recta a una velocidad relativista $v$ a otro planeta a $x$ años luz de distancia.\n",
        "\n",
        " Escribe un programa que le pida al usuario el valor de $x$ y la velocidad $v$ como una fracción de la velocidad de la luz $c$, y que imprima el tiempo en años que tarda la nave espacial en llegar a su destino"
      ]
    },
    {
      "cell_type": "markdown",
      "metadata": {
        "id": "0VumDwGOC9qV"
      },
      "source": [
        "a) en el marco de reposo de un observador en la Tierra y"
      ]
    },
    {
      "cell_type": "markdown",
      "source": [
        "transformaciones de lorentz\n"
      ],
      "metadata": {
        "id": "nHiKZO5IJc4X"
      }
    },
    {
      "cell_type": "code",
      "execution_count": null,
      "metadata": {
        "id": "t0KQuQQhC9qV"
      },
      "outputs": [],
      "source": []
    },
    {
      "cell_type": "markdown",
      "metadata": {
        "id": "_JUgdEL3C9qV"
      },
      "source": [
        "b) como lo percibiría un pasajero a bordo de la nave."
      ]
    },
    {
      "cell_type": "code",
      "execution_count": null,
      "metadata": {
        "id": "V1bUzcSCC9qW"
      },
      "outputs": [],
      "source": []
    },
    {
      "cell_type": "markdown",
      "metadata": {
        "id": "GaFx8x9VC9qW"
      },
      "source": [
        "Usa tu programa para calcular las respuestas para un planeta a 10 años luz de distancia con $v = 0.99c$"
      ]
    },
    {
      "cell_type": "code",
      "execution_count": null,
      "metadata": {
        "id": "Nq1RRePQC9qX"
      },
      "outputs": [],
      "source": []
    },
    {
      "cell_type": "code",
      "execution_count": null,
      "metadata": {
        "id": "l1amB3X3C9qX"
      },
      "outputs": [],
      "source": []
    },
    {
      "cell_type": "code",
      "execution_count": null,
      "metadata": {
        "id": "ThnTP0xrC9qX"
      },
      "outputs": [],
      "source": []
    },
    {
      "cell_type": "markdown",
      "metadata": {
        "id": "1VWQE5CkC9qX"
      },
      "source": [
        "**4. Órbitas planetarias:** En el espacio, la órbita de un cuerpo alrededor de otro (como un planeta alrededor del Sol), no necesariamente es circular. En general, toma la forma de una elipse, con el cuerpo a veces más cerca y otras más lejos. Si tenemos la distancia $\\ell_1$ de máxima aproximación de un planeta al Sol (su *perihelio*), y su velocidad lineal $v_1$ en el perihelio, entonces cualquier otra propiedad de la órbita se puede calcular a partir de estas dos cantidades de la siguiente manera:"
      ]
    },
    {
      "cell_type": "markdown",
      "metadata": {
        "id": "IkyTdBocC9qY"
      },
      "source": [
        "   \n",
        "**a)** La segunda ley de Kepler nos dice que la distancia $\\ell_2$ y la velocidad $v_2$ del planeta en su punto más distante, o *afelio*, satisfacen que $\\ell_2 v_2 = \\ell_1 v_1$.  Al mismo tiempo, la energía total, cinética más la gravitatoria, de un planeta con velocidad $v$ y distancia $r$ del Sol está dada por:\n",
        "\n",
        "<h3 align=\"center\">$E = \\frac{1}{2} m v^2 - G {mM\\over r}$,</h3>\n",
        "        \n",
        "donde $m$ es la masa del planeta, $M=1.9891\\times10^{30}\\,$kg es la masa del Sol y $G=6.6738\\times10^{-11}\\,\\mathrm{m^3\\,kg^{-1}\\,s^{-2}}$ es la constante gravitatoria de Newton. Dado que la energía debe conservarse, demuestre que $v_2$ es la raíz más pequeña de la ecuación cuadrática:\n",
        "\n",
        "<h3 align=\"center\">$v_2^2 - {2GM\\over v_1\\ell_1} v_2 - \\biggl[ v_1^2 - {2GM\\over\\ell_1} \\biggr] = 0$.</h3>\n",
        "\n",
        "Una vez que tenemos $v_2$ podemos calcular $\\ell_2$  usando la relación $\\ell_2 = \\ell_1 v_1/v_2$."
      ]
    },
    {
      "cell_type": "code",
      "execution_count": null,
      "metadata": {
        "id": "uaWqtSS6C9qY"
      },
      "outputs": [],
      "source": []
    },
    {
      "cell_type": "markdown",
      "metadata": {
        "id": "FxOP_DN6C9qY"
      },
      "source": [
        "**b)** Dados los valores de $v_1$, $\\ell_1$, y $\\ell_2$; otros parámetros de la órbita se obtienen mediante fórmulas simples que pueden derivarse de las leyes de Kepler y del hecho de que la órbita es una elipse:\n",
        "\n",
        "<h4 align=\"center\">Semieje mayor: $\\; \\; \\; a = \\frac{1}{2}(\\ell_1+\\ell_2)$,</h4>\n",
        "\n",
        "<h4 align=\"center\">Semieje menor: $\\; \\; \\; b = \\sqrt{\\ell_1\\ell_2}$,</h4>\n",
        "\n",
        "<h4 align=\"center\">Período orbital: $\\; \\; \\; T = {2\\pi ab\\over\\ell_1 v_1}$,</h4>\n",
        "\n",
        "<h4 align=\"center\">Excentricidad orbital: $\\; \\; \\; e = {\\ell_2-\\ell_1\\over\\ell_2+\\ell_1}$.</h4>\n",
        "\n",
        "Escribe un programa que le pida al usuario que ingrese la distancia al Sol y la velocidad en el perihelio; para que calcule e imprima las cantidades:\n",
        "\n",
        "$\\ell_2$, $v_2$, $T$ y $e$."
      ]
    },
    {
      "cell_type": "code",
      "execution_count": null,
      "metadata": {
        "id": "XUu2bhgSC9qb"
      },
      "outputs": [],
      "source": []
    },
    {
      "cell_type": "code",
      "execution_count": null,
      "metadata": {
        "id": "7ZQzmkmuC9qb"
      },
      "outputs": [],
      "source": []
    },
    {
      "cell_type": "markdown",
      "metadata": {
        "id": "oB2IXNWUC9qc"
      },
      "source": [
        "**c)** Prueba tu programa haciendo que calcule las propiedades de las órbitas de la Tierra (para las cuales $\\ell_1=1.4710\\times10^{11}\\,$m y $v_1=3.0287\\times10^4\\,\\mathrm{m\\,s^{-1}}$)  y del cometa Halley ($\\ell_1=8.7830\\times10^{10}\\,$m y $v_1=5.4529\\times10^4\\,\\mathrm{m\\,s^{-1}}$). Entre otras cosas, deberías encontrar que el período orbital de la Tierra es de un año y el del cometa Halley es de unos 76 años."
      ]
    },
    {
      "cell_type": "code",
      "execution_count": null,
      "metadata": {
        "id": "c7mFGYoVC9qc"
      },
      "outputs": [],
      "source": []
    },
    {
      "cell_type": "code",
      "execution_count": null,
      "metadata": {
        "id": "Ber-ix1aC9qc"
      },
      "outputs": [],
      "source": []
    },
    {
      "cell_type": "markdown",
      "metadata": {
        "id": "uxQzaVc4C9qc"
      },
      "source": [
        "**5. La fórmula semiempírica de la masa (FSM)**\n",
        "\n",
        "En física nuclear, la **fórmula de Weizsäcker** (conocida también como fórmula semiempírica) sirve para evaluar la masa y otras propiedades de un núcleo atómico; y está basada parcialmente en mediciones empíricas. En particular la fórmula se usa para calcular la \\textbf{\\textit{energía de enlace nuclear aproximada}} $B$, de un núcleo atómico con número atómico $Z$ y número de masa $A$:\n",
        "\n",
        "<h3 align=\"center\">$B = a_1 A - a_2 A^{2/3} - a_3 {Z^2\\over A^{1/3}} - a_4 {(A - 2Z)^2\\over A} + {a_5\\over A^{1/2}}$,</h3>\n",
        "\n",
        "donde, en unidades de millones de electrón-volts, las constantes son $a_1=15.8$, $a_2=18.3$, $a_3=0.714$, $a_4=23.2$ y          \n",
        "<h6 align=\"center\">\n",
        "$a_5 =\n",
        "  \\left \\{\n",
        "    \\begin{aligned}\n",
        "      0 & \\; \\text{si} \\ A \\; \\text{es impar,} \\\\\n",
        "      12.0 & \\; \\text{si} \\ A \\; \\text{y} \\; Z \\; \\text{son pares (ambos),} \\\\\n",
        "      -12.0 & \\; \\text{si} \\ A \\; \\text{es par y} \\; Z \\; \\text{impar}\n",
        "    \\end{aligned}\n",
        "  \\right.\n",
        "$\n",
        "</h6>"
      ]
    },
    {
      "cell_type": "markdown",
      "metadata": {
        "id": "b5-GL6jJC9qd"
      },
      "source": [
        "**a)** Escribe un programa que tome como entrada los valores de $A$ y $Z$, e imprima la energía de enlace $B$ para el átomo correspondiente. Usa tu programa para encontrar la energía de enlace de un átomo con $A=58$ y $Z=28$ (Hint: La respuesta correcta es alrededor de los $490\\,$MeV)."
      ]
    },
    {
      "cell_type": "code",
      "execution_count": null,
      "metadata": {
        "id": "8O-8Pv1rC9qd"
      },
      "outputs": [],
      "source": []
    },
    {
      "cell_type": "code",
      "execution_count": null,
      "metadata": {
        "id": "af_OEQQ8C9qd"
      },
      "outputs": [],
      "source": []
    },
    {
      "cell_type": "markdown",
      "metadata": {
        "id": "w74x-eqMC9qo"
      },
      "source": [
        "**b)** Modifica el programa del inciso anterior, para escribir una segunda versión que imprima no la energía de enlace total $B$, sino la energía de unión por nucleón, que es $B/A$."
      ]
    },
    {
      "cell_type": "code",
      "execution_count": null,
      "metadata": {
        "id": "za5OYVlXC9qo"
      },
      "outputs": [],
      "source": []
    },
    {
      "cell_type": "code",
      "execution_count": null,
      "metadata": {
        "id": "imu0L9HaC9qp"
      },
      "outputs": [],
      "source": []
    },
    {
      "cell_type": "markdown",
      "metadata": {
        "id": "M7NUGA9UC9qp"
      },
      "source": [
        "**c)** Escribe una tercera versión del programa para que tome como entrada solo un valor del número atómico $Z$ y luego pase por todos los valores de $A$ desde $A=Z$ hasta $A=3Z$, para encontrar el que tiene la mayor energía de enlace por nucleón . Este es el núcleo más estable con el número atómico dado. Haz que tu programa imprima el valor de $A$ para este núcleo más estable y el valor de la energía de enlace por nucleón."
      ]
    },
    {
      "cell_type": "code",
      "execution_count": null,
      "metadata": {
        "id": "HIdHR55UC9qp"
      },
      "outputs": [],
      "source": []
    },
    {
      "cell_type": "code",
      "execution_count": null,
      "metadata": {
        "id": "r9MN-e2eC9qq"
      },
      "outputs": [],
      "source": []
    },
    {
      "cell_type": "markdown",
      "metadata": {
        "id": "c3o9GFD4C9qq"
      },
      "source": [
        "**d)** Finalmente, escribe una cuarta versión del programa que, en lugar de tomar $Z$ como entrada, se ejecute a través de todos los valores de $Z$ de 1 a 100 e imprima el valor más estable de $A$ para cada uno. ¿A qué valor de $Z$ se produce la energía de enlace máxima por nucleón? (La respuesta correcta, en la vida real, es $Z=28$, que corresponde al Níquel)."
      ]
    },
    {
      "cell_type": "code",
      "execution_count": null,
      "metadata": {
        "id": "LBUe5Qa_C9qr"
      },
      "outputs": [],
      "source": []
    },
    {
      "cell_type": "code",
      "execution_count": null,
      "metadata": {
        "id": "BQZq5ND6C9qr"
      },
      "outputs": [],
      "source": []
    }
  ],
  "metadata": {
    "kernelspec": {
      "display_name": "Bash",
      "language": "bash",
      "name": "bash"
    },
    "language_info": {
      "codemirror_mode": "shell",
      "file_extension": ".sh",
      "mimetype": "text/x-sh",
      "name": "bash"
    },
    "colab": {
      "provenance": [],
      "include_colab_link": true
    }
  },
  "nbformat": 4,
  "nbformat_minor": 0
}